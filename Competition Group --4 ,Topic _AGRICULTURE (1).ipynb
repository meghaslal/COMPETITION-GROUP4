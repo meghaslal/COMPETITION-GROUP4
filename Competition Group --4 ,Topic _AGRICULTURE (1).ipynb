{
 "cells": [
  {
   "cell_type": "code",
   "execution_count": 1,
   "id": "f36bbdb8",
   "metadata": {},
   "outputs": [],
   "source": [
    "import pandas as pd\n",
    "import numpy as np\n",
    "import matplotlib.pyplot as plt\n",
    "import seaborn as sns\n",
    "from sklearn import metrics\n",
    "sns.set()\n",
    "import warnings\n",
    "warnings.filterwarnings('ignore')"
   ]
  },
  {
   "cell_type": "markdown",
   "id": "42bb476f",
   "metadata": {},
   "source": [
    "# 1.Load the dataset into python environment"
   ]
  },
  {
   "cell_type": "code",
   "execution_count": 2,
   "id": "05fc149f",
   "metadata": {},
   "outputs": [
    {
     "data": {
      "text/html": [
       "<div>\n",
       "<style scoped>\n",
       "    .dataframe tbody tr th:only-of-type {\n",
       "        vertical-align: middle;\n",
       "    }\n",
       "\n",
       "    .dataframe tbody tr th {\n",
       "        vertical-align: top;\n",
       "    }\n",
       "\n",
       "    .dataframe thead th {\n",
       "        text-align: right;\n",
       "    }\n",
       "</style>\n",
       "<table border=\"1\" class=\"dataframe\">\n",
       "  <thead>\n",
       "    <tr style=\"text-align: right;\">\n",
       "      <th></th>\n",
       "      <th>Domain</th>\n",
       "      <th>Indicator</th>\n",
       "      <th>Item</th>\n",
       "      <th>Element</th>\n",
       "      <th>CountryCode</th>\n",
       "      <th>CountryName</th>\n",
       "      <th>Region</th>\n",
       "      <th>Scenario</th>\n",
       "      <th>Units</th>\n",
       "      <th>Year</th>\n",
       "      <th>Value</th>\n",
       "    </tr>\n",
       "  </thead>\n",
       "  <tbody>\n",
       "    <tr>\n",
       "      <th>0</th>\n",
       "      <td>Crop Production</td>\n",
       "      <td>Arable land</td>\n",
       "      <td>Growing of bananas</td>\n",
       "      <td>Rainfed</td>\n",
       "      <td>CHN</td>\n",
       "      <td>China, mainland</td>\n",
       "      <td>China</td>\n",
       "      <td>Toward Sustainability</td>\n",
       "      <td>ha</td>\n",
       "      <td>2012</td>\n",
       "      <td>378941.101287</td>\n",
       "    </tr>\n",
       "    <tr>\n",
       "      <th>1</th>\n",
       "      <td>Crop Production</td>\n",
       "      <td>Arable land</td>\n",
       "      <td>Growing of bananas</td>\n",
       "      <td>Rainfed</td>\n",
       "      <td>CHN</td>\n",
       "      <td>China, mainland</td>\n",
       "      <td>China</td>\n",
       "      <td>Toward Sustainability</td>\n",
       "      <td>ha</td>\n",
       "      <td>2030</td>\n",
       "      <td>327151.032340</td>\n",
       "    </tr>\n",
       "    <tr>\n",
       "      <th>2</th>\n",
       "      <td>Crop Production</td>\n",
       "      <td>Arable land</td>\n",
       "      <td>Growing of bananas</td>\n",
       "      <td>Rainfed</td>\n",
       "      <td>CHN</td>\n",
       "      <td>China, mainland</td>\n",
       "      <td>China</td>\n",
       "      <td>Toward Sustainability</td>\n",
       "      <td>ha</td>\n",
       "      <td>2035</td>\n",
       "      <td>317999.663286</td>\n",
       "    </tr>\n",
       "    <tr>\n",
       "      <th>3</th>\n",
       "      <td>Crop Production</td>\n",
       "      <td>Arable land</td>\n",
       "      <td>Growing of bananas</td>\n",
       "      <td>Rainfed</td>\n",
       "      <td>CHN</td>\n",
       "      <td>China, mainland</td>\n",
       "      <td>China</td>\n",
       "      <td>Toward Sustainability</td>\n",
       "      <td>ha</td>\n",
       "      <td>2040</td>\n",
       "      <td>305439.066285</td>\n",
       "    </tr>\n",
       "    <tr>\n",
       "      <th>4</th>\n",
       "      <td>Crop Production</td>\n",
       "      <td>Arable land</td>\n",
       "      <td>Growing of bananas</td>\n",
       "      <td>Rainfed</td>\n",
       "      <td>CHN</td>\n",
       "      <td>China, mainland</td>\n",
       "      <td>China</td>\n",
       "      <td>Toward Sustainability</td>\n",
       "      <td>ha</td>\n",
       "      <td>2050</td>\n",
       "      <td>282125.857178</td>\n",
       "    </tr>\n",
       "    <tr>\n",
       "      <th>...</th>\n",
       "      <td>...</td>\n",
       "      <td>...</td>\n",
       "      <td>...</td>\n",
       "      <td>...</td>\n",
       "      <td>...</td>\n",
       "      <td>...</td>\n",
       "      <td>...</td>\n",
       "      <td>...</td>\n",
       "      <td>...</td>\n",
       "      <td>...</td>\n",
       "      <td>...</td>\n",
       "    </tr>\n",
       "    <tr>\n",
       "      <th>65530</th>\n",
       "      <td>Crop Production</td>\n",
       "      <td>Cropping intensity</td>\n",
       "      <td>Growing of sunflower seed</td>\n",
       "      <td>Irrigated</td>\n",
       "      <td>TUR</td>\n",
       "      <td>Turkey</td>\n",
       "      <td>Europe/Central Asia</td>\n",
       "      <td>Toward Sustainability</td>\n",
       "      <td>-</td>\n",
       "      <td>2012</td>\n",
       "      <td>0.840730</td>\n",
       "    </tr>\n",
       "    <tr>\n",
       "      <th>65531</th>\n",
       "      <td>Crop Production</td>\n",
       "      <td>Cropping intensity</td>\n",
       "      <td>Growing of sunflower seed</td>\n",
       "      <td>Irrigated</td>\n",
       "      <td>TUR</td>\n",
       "      <td>Turkey</td>\n",
       "      <td>Europe/Central Asia</td>\n",
       "      <td>Toward Sustainability</td>\n",
       "      <td>-</td>\n",
       "      <td>2030</td>\n",
       "      <td>1.119916</td>\n",
       "    </tr>\n",
       "    <tr>\n",
       "      <th>65532</th>\n",
       "      <td>Crop Production</td>\n",
       "      <td>Cropping intensity</td>\n",
       "      <td>Growing of sunflower seed</td>\n",
       "      <td>Irrigated</td>\n",
       "      <td>TUR</td>\n",
       "      <td>Turkey</td>\n",
       "      <td>Europe/Central Asia</td>\n",
       "      <td>Toward Sustainability</td>\n",
       "      <td>-</td>\n",
       "      <td>2035</td>\n",
       "      <td>1.135997</td>\n",
       "    </tr>\n",
       "    <tr>\n",
       "      <th>65533</th>\n",
       "      <td>Crop Production</td>\n",
       "      <td>Cropping intensity</td>\n",
       "      <td>Growing of sunflower seed</td>\n",
       "      <td>Irrigated</td>\n",
       "      <td>TUR</td>\n",
       "      <td>Turkey</td>\n",
       "      <td>Europe/Central Asia</td>\n",
       "      <td>Toward Sustainability</td>\n",
       "      <td>-</td>\n",
       "      <td>2040</td>\n",
       "      <td>1.152077</td>\n",
       "    </tr>\n",
       "    <tr>\n",
       "      <th>65534</th>\n",
       "      <td>Crop Production</td>\n",
       "      <td>Cropping intensity</td>\n",
       "      <td>Growing of sunflower seed</td>\n",
       "      <td>Irrigated</td>\n",
       "      <td>TUR</td>\n",
       "      <td>Turkey</td>\n",
       "      <td>Europe/Central Asia</td>\n",
       "      <td>Toward Sustainability</td>\n",
       "      <td>-</td>\n",
       "      <td>2050</td>\n",
       "      <td>1.184239</td>\n",
       "    </tr>\n",
       "  </tbody>\n",
       "</table>\n",
       "<p>65535 rows × 11 columns</p>\n",
       "</div>"
      ],
      "text/plain": [
       "                Domain           Indicator                       Item  \\\n",
       "0      Crop Production         Arable land         Growing of bananas   \n",
       "1      Crop Production         Arable land         Growing of bananas   \n",
       "2      Crop Production         Arable land         Growing of bananas   \n",
       "3      Crop Production         Arable land         Growing of bananas   \n",
       "4      Crop Production         Arable land         Growing of bananas   \n",
       "...                ...                 ...                        ...   \n",
       "65530  Crop Production  Cropping intensity  Growing of sunflower seed   \n",
       "65531  Crop Production  Cropping intensity  Growing of sunflower seed   \n",
       "65532  Crop Production  Cropping intensity  Growing of sunflower seed   \n",
       "65533  Crop Production  Cropping intensity  Growing of sunflower seed   \n",
       "65534  Crop Production  Cropping intensity  Growing of sunflower seed   \n",
       "\n",
       "         Element CountryCode      CountryName               Region  \\\n",
       "0        Rainfed         CHN  China, mainland                China   \n",
       "1        Rainfed         CHN  China, mainland                China   \n",
       "2        Rainfed         CHN  China, mainland                China   \n",
       "3        Rainfed         CHN  China, mainland                China   \n",
       "4        Rainfed         CHN  China, mainland                China   \n",
       "...          ...         ...              ...                  ...   \n",
       "65530  Irrigated         TUR           Turkey  Europe/Central Asia   \n",
       "65531  Irrigated         TUR           Turkey  Europe/Central Asia   \n",
       "65532  Irrigated         TUR           Turkey  Europe/Central Asia   \n",
       "65533  Irrigated         TUR           Turkey  Europe/Central Asia   \n",
       "65534  Irrigated         TUR           Turkey  Europe/Central Asia   \n",
       "\n",
       "                    Scenario Units  Year          Value  \n",
       "0      Toward Sustainability    ha  2012  378941.101287  \n",
       "1      Toward Sustainability    ha  2030  327151.032340  \n",
       "2      Toward Sustainability    ha  2035  317999.663286  \n",
       "3      Toward Sustainability    ha  2040  305439.066285  \n",
       "4      Toward Sustainability    ha  2050  282125.857178  \n",
       "...                      ...   ...   ...            ...  \n",
       "65530  Toward Sustainability     -  2012       0.840730  \n",
       "65531  Toward Sustainability     -  2030       1.119916  \n",
       "65532  Toward Sustainability     -  2035       1.135997  \n",
       "65533  Toward Sustainability     -  2040       1.152077  \n",
       "65534  Toward Sustainability     -  2050       1.184239  \n",
       "\n",
       "[65535 rows x 11 columns]"
      ]
     },
     "execution_count": 2,
     "metadata": {},
     "output_type": "execute_result"
    }
   ],
   "source": [
    "df = pd.read_excel(\"Crop_1.xls\")\n",
    "df"
   ]
  },
  {
   "cell_type": "code",
   "execution_count": 3,
   "id": "eff62418",
   "metadata": {},
   "outputs": [
    {
     "data": {
      "text/plain": [
       "(65535, 11)"
      ]
     },
     "execution_count": 3,
     "metadata": {},
     "output_type": "execute_result"
    }
   ],
   "source": [
    "df.shape"
   ]
  },
  {
   "cell_type": "code",
   "execution_count": 4,
   "id": "fe1d8902",
   "metadata": {},
   "outputs": [
    {
     "data": {
      "text/plain": [
       "Domain               Crop Production\n",
       "Indicator         Technology shifter\n",
       "Item                Growing of wheat\n",
       "Element                      Rainfed\n",
       "CountryCode                     XECA\n",
       "CountryName                 Viet Nam\n",
       "Region           Europe/Central Asia\n",
       "Scenario       Toward Sustainability\n",
       "Units                      tonnes/ha\n",
       "Year                            2050\n",
       "Value                21015065.144257\n",
       "dtype: object"
      ]
     },
     "execution_count": 4,
     "metadata": {},
     "output_type": "execute_result"
    }
   ],
   "source": [
    "np.max(df,axis=0)"
   ]
  },
  {
   "cell_type": "code",
   "execution_count": 5,
   "id": "6be5c6cc",
   "metadata": {},
   "outputs": [
    {
     "data": {
      "text/plain": [
       "Domain            Crop Production\n",
       "Indicator             Arable land\n",
       "Item           Growing of bananas\n",
       "Element                 Irrigated\n",
       "CountryCode                   ALB\n",
       "CountryName               Albania\n",
       "Region                      China\n",
       "Scenario        Business As Usual\n",
       "Units                           -\n",
       "Year                         2012\n",
       "Value                       0.001\n",
       "dtype: object"
      ]
     },
     "execution_count": 5,
     "metadata": {},
     "output_type": "execute_result"
    }
   ],
   "source": [
    "np.min(df,axis=0)"
   ]
  },
  {
   "cell_type": "markdown",
   "id": "057d6dd6",
   "metadata": {},
   "source": [
    "# 2.Preprocessing"
   ]
  },
  {
   "cell_type": "markdown",
   "id": "8460b919",
   "metadata": {},
   "source": [
    "# 1.Missing Values"
   ]
  },
  {
   "cell_type": "code",
   "execution_count": 6,
   "id": "86192077",
   "metadata": {},
   "outputs": [
    {
     "data": {
      "text/plain": [
       "Domain         0\n",
       "Indicator      0\n",
       "Item           0\n",
       "Element        0\n",
       "CountryCode    0\n",
       "CountryName    0\n",
       "Region         0\n",
       "Scenario       0\n",
       "Units          0\n",
       "Year           0\n",
       "Value          0\n",
       "dtype: int64"
      ]
     },
     "execution_count": 6,
     "metadata": {},
     "output_type": "execute_result"
    }
   ],
   "source": [
    "df.isna().sum()"
   ]
  },
  {
   "cell_type": "code",
   "execution_count": 7,
   "id": "1a779e60",
   "metadata": {},
   "outputs": [
    {
     "name": "stdout",
     "output_type": "stream",
     "text": [
      "<class 'pandas.core.frame.DataFrame'>\n",
      "RangeIndex: 65535 entries, 0 to 65534\n",
      "Data columns (total 11 columns):\n",
      " #   Column       Non-Null Count  Dtype  \n",
      "---  ------       --------------  -----  \n",
      " 0   Domain       65535 non-null  object \n",
      " 1   Indicator    65535 non-null  object \n",
      " 2   Item         65535 non-null  object \n",
      " 3   Element      65535 non-null  object \n",
      " 4   CountryCode  65535 non-null  object \n",
      " 5   CountryName  65535 non-null  object \n",
      " 6   Region       65535 non-null  object \n",
      " 7   Scenario     65535 non-null  object \n",
      " 8   Units        65535 non-null  object \n",
      " 9   Year         65535 non-null  int64  \n",
      " 10  Value        65535 non-null  float64\n",
      "dtypes: float64(1), int64(1), object(9)\n",
      "memory usage: 5.5+ MB\n"
     ]
    }
   ],
   "source": [
    "df.info()"
   ]
  },
  {
   "cell_type": "code",
   "execution_count": 8,
   "id": "35fcdcea",
   "metadata": {},
   "outputs": [
    {
     "data": {
      "text/html": [
       "<div>\n",
       "<style scoped>\n",
       "    .dataframe tbody tr th:only-of-type {\n",
       "        vertical-align: middle;\n",
       "    }\n",
       "\n",
       "    .dataframe tbody tr th {\n",
       "        vertical-align: top;\n",
       "    }\n",
       "\n",
       "    .dataframe thead th {\n",
       "        text-align: right;\n",
       "    }\n",
       "</style>\n",
       "<table border=\"1\" class=\"dataframe\">\n",
       "  <thead>\n",
       "    <tr style=\"text-align: right;\">\n",
       "      <th></th>\n",
       "      <th>Domain</th>\n",
       "      <th>Indicator</th>\n",
       "      <th>Item</th>\n",
       "      <th>Element</th>\n",
       "      <th>CountryCode</th>\n",
       "      <th>CountryName</th>\n",
       "      <th>Region</th>\n",
       "      <th>Scenario</th>\n",
       "      <th>Units</th>\n",
       "      <th>Year</th>\n",
       "      <th>Value</th>\n",
       "    </tr>\n",
       "  </thead>\n",
       "  <tbody>\n",
       "    <tr>\n",
       "      <th>0</th>\n",
       "      <td>Crop Production</td>\n",
       "      <td>Arable land</td>\n",
       "      <td>Growing of bananas</td>\n",
       "      <td>Rainfed</td>\n",
       "      <td>CHN</td>\n",
       "      <td>China, mainland</td>\n",
       "      <td>China</td>\n",
       "      <td>Toward Sustainability</td>\n",
       "      <td>ha</td>\n",
       "      <td>2012</td>\n",
       "      <td>378941.101287</td>\n",
       "    </tr>\n",
       "    <tr>\n",
       "      <th>1</th>\n",
       "      <td>Crop Production</td>\n",
       "      <td>Arable land</td>\n",
       "      <td>Growing of bananas</td>\n",
       "      <td>Rainfed</td>\n",
       "      <td>CHN</td>\n",
       "      <td>China, mainland</td>\n",
       "      <td>China</td>\n",
       "      <td>Toward Sustainability</td>\n",
       "      <td>ha</td>\n",
       "      <td>2030</td>\n",
       "      <td>327151.032340</td>\n",
       "    </tr>\n",
       "    <tr>\n",
       "      <th>2</th>\n",
       "      <td>Crop Production</td>\n",
       "      <td>Arable land</td>\n",
       "      <td>Growing of bananas</td>\n",
       "      <td>Rainfed</td>\n",
       "      <td>CHN</td>\n",
       "      <td>China, mainland</td>\n",
       "      <td>China</td>\n",
       "      <td>Toward Sustainability</td>\n",
       "      <td>ha</td>\n",
       "      <td>2035</td>\n",
       "      <td>317999.663286</td>\n",
       "    </tr>\n",
       "    <tr>\n",
       "      <th>3</th>\n",
       "      <td>Crop Production</td>\n",
       "      <td>Arable land</td>\n",
       "      <td>Growing of bananas</td>\n",
       "      <td>Rainfed</td>\n",
       "      <td>CHN</td>\n",
       "      <td>China, mainland</td>\n",
       "      <td>China</td>\n",
       "      <td>Toward Sustainability</td>\n",
       "      <td>ha</td>\n",
       "      <td>2040</td>\n",
       "      <td>305439.066285</td>\n",
       "    </tr>\n",
       "    <tr>\n",
       "      <th>4</th>\n",
       "      <td>Crop Production</td>\n",
       "      <td>Arable land</td>\n",
       "      <td>Growing of bananas</td>\n",
       "      <td>Rainfed</td>\n",
       "      <td>CHN</td>\n",
       "      <td>China, mainland</td>\n",
       "      <td>China</td>\n",
       "      <td>Toward Sustainability</td>\n",
       "      <td>ha</td>\n",
       "      <td>2050</td>\n",
       "      <td>282125.857178</td>\n",
       "    </tr>\n",
       "  </tbody>\n",
       "</table>\n",
       "</div>"
      ],
      "text/plain": [
       "            Domain    Indicator                Item  Element CountryCode  \\\n",
       "0  Crop Production  Arable land  Growing of bananas  Rainfed         CHN   \n",
       "1  Crop Production  Arable land  Growing of bananas  Rainfed         CHN   \n",
       "2  Crop Production  Arable land  Growing of bananas  Rainfed         CHN   \n",
       "3  Crop Production  Arable land  Growing of bananas  Rainfed         CHN   \n",
       "4  Crop Production  Arable land  Growing of bananas  Rainfed         CHN   \n",
       "\n",
       "       CountryName Region               Scenario Units  Year          Value  \n",
       "0  China, mainland  China  Toward Sustainability    ha  2012  378941.101287  \n",
       "1  China, mainland  China  Toward Sustainability    ha  2030  327151.032340  \n",
       "2  China, mainland  China  Toward Sustainability    ha  2035  317999.663286  \n",
       "3  China, mainland  China  Toward Sustainability    ha  2040  305439.066285  \n",
       "4  China, mainland  China  Toward Sustainability    ha  2050  282125.857178  "
      ]
     },
     "execution_count": 8,
     "metadata": {},
     "output_type": "execute_result"
    }
   ],
   "source": [
    "df.head()"
   ]
  },
  {
   "cell_type": "code",
   "execution_count": 9,
   "id": "d84bf1d8",
   "metadata": {},
   "outputs": [
    {
     "data": {
      "text/html": [
       "<div>\n",
       "<style scoped>\n",
       "    .dataframe tbody tr th:only-of-type {\n",
       "        vertical-align: middle;\n",
       "    }\n",
       "\n",
       "    .dataframe tbody tr th {\n",
       "        vertical-align: top;\n",
       "    }\n",
       "\n",
       "    .dataframe thead th {\n",
       "        text-align: right;\n",
       "    }\n",
       "</style>\n",
       "<table border=\"1\" class=\"dataframe\">\n",
       "  <thead>\n",
       "    <tr style=\"text-align: right;\">\n",
       "      <th></th>\n",
       "      <th>Year</th>\n",
       "      <th>Value</th>\n",
       "    </tr>\n",
       "  </thead>\n",
       "  <tbody>\n",
       "    <tr>\n",
       "      <th>count</th>\n",
       "      <td>65535.000000</td>\n",
       "      <td>6.553500e+04</td>\n",
       "    </tr>\n",
       "    <tr>\n",
       "      <th>mean</th>\n",
       "      <td>2033.400000</td>\n",
       "      <td>7.644430e+04</td>\n",
       "    </tr>\n",
       "    <tr>\n",
       "      <th>std</th>\n",
       "      <td>12.579444</td>\n",
       "      <td>6.888799e+05</td>\n",
       "    </tr>\n",
       "    <tr>\n",
       "      <th>min</th>\n",
       "      <td>2012.000000</td>\n",
       "      <td>1.000000e-03</td>\n",
       "    </tr>\n",
       "    <tr>\n",
       "      <th>25%</th>\n",
       "      <td>2030.000000</td>\n",
       "      <td>1.000000e+00</td>\n",
       "    </tr>\n",
       "    <tr>\n",
       "      <th>50%</th>\n",
       "      <td>2035.000000</td>\n",
       "      <td>1.453000e+00</td>\n",
       "    </tr>\n",
       "    <tr>\n",
       "      <th>75%</th>\n",
       "      <td>2040.000000</td>\n",
       "      <td>3.739800e+01</td>\n",
       "    </tr>\n",
       "    <tr>\n",
       "      <th>max</th>\n",
       "      <td>2050.000000</td>\n",
       "      <td>2.101507e+07</td>\n",
       "    </tr>\n",
       "  </tbody>\n",
       "</table>\n",
       "</div>"
      ],
      "text/plain": [
       "               Year         Value\n",
       "count  65535.000000  6.553500e+04\n",
       "mean    2033.400000  7.644430e+04\n",
       "std       12.579444  6.888799e+05\n",
       "min     2012.000000  1.000000e-03\n",
       "25%     2030.000000  1.000000e+00\n",
       "50%     2035.000000  1.453000e+00\n",
       "75%     2040.000000  3.739800e+01\n",
       "max     2050.000000  2.101507e+07"
      ]
     },
     "execution_count": 9,
     "metadata": {},
     "output_type": "execute_result"
    }
   ],
   "source": [
    "df.describe()"
   ]
  },
  {
   "cell_type": "code",
   "execution_count": 10,
   "id": "08dc8367",
   "metadata": {},
   "outputs": [
    {
     "data": {
      "text/plain": [
       "<AxesSubplot:>"
      ]
     },
     "execution_count": 10,
     "metadata": {},
     "output_type": "execute_result"
    },
    {
     "data": {
      "image/png": "[encoded data removed]",
      "text/plain": [
       "<Figure size 1440x576 with 2 Axes>"
      ]
     },
     "metadata": {},
     "output_type": "display_data"
    }
   ],
   "source": [
    "corrmatrix = df.corr()\n",
    "plt.subplots(figsize=(20,8))\n",
    "sns.heatmap(corrmatrix,vmin=0.4,vmax=0.9,annot=True,linewidths=0.2,cmap='Blues')"
   ]
  },
  {
   "cell_type": "markdown",
   "id": "c23c8946",
   "metadata": {},
   "source": [
    "# 2.Outlier Detection and Handling"
   ]
  },
  {
   "cell_type": "code",
   "execution_count": 11,
   "id": "3e029b09",
   "metadata": {},
   "outputs": [
    {
     "data": {
      "text/plain": [
       "Text(0.5, 1.0, 'Box plot of Year')"
      ]
     },
     "execution_count": 11,
     "metadata": {},
     "output_type": "execute_result"
    },
    {
     "data": {
      "image/png": "[encoded data removed]",
      "text/plain": [
       "<Figure size 432x288 with 1 Axes>"
      ]
     },
     "metadata": {},
     "output_type": "display_data"
    }
   ],
   "source": [
    "plt.boxplot(df['Year'])\n",
    "plt.title('Box plot of Year')"
   ]
  },
  {
   "cell_type": "code",
   "execution_count": 12,
   "id": "b6bb2cbd",
   "metadata": {},
   "outputs": [
    {
     "data": {
      "text/plain": [
       "Text(0.5, 1.0, 'Box plot of Value')"
      ]
     },
     "execution_count": 12,
     "metadata": {},
     "output_type": "execute_result"
    },
    {
     "data": {
      "image/png": "[encoded data removed]",
      "text/plain": [
       "<Figure size 432x288 with 1 Axes>"
      ]
     },
     "metadata": {},
     "output_type": "display_data"
    }
   ],
   "source": [
    "plt.boxplot(df['Value'])\n",
    "plt.title('Box plot of Value')"
   ]
  },
  {
   "cell_type": "code",
   "execution_count": 13,
   "id": "392fd3ff",
   "metadata": {},
   "outputs": [],
   "source": [
    "Q1 = np.percentile(df['Value'],25,interpolation='midpoint')\n",
    "Q2 = np.percentile(df['Value'],50,interpolation='midpoint')\n",
    "Q3 = np.percentile(df['Value'],75,interpolation='midpoint')"
   ]
  },
  {
   "cell_type": "code",
   "execution_count": 14,
   "id": "bddfea28",
   "metadata": {},
   "outputs": [],
   "source": [
    "IQR = Q3-Q1"
   ]
  },
  {
   "cell_type": "code",
   "execution_count": 15,
   "id": "785fbf6e",
   "metadata": {},
   "outputs": [
    {
     "name": "stdout",
     "output_type": "stream",
     "text": [
      "-53.596999999999994\n",
      "91.99499999999999\n"
     ]
    }
   ],
   "source": [
    "low_limit = Q1-1.5*IQR\n",
    "up_limit = Q3+1.5*IQR\n",
    "print(low_limit)\n",
    "print(up_limit )"
   ]
  },
  {
   "cell_type": "code",
   "execution_count": 16,
   "id": "dfc5ff1c",
   "metadata": {},
   "outputs": [],
   "source": [
    "outlier = []\n",
    "for x in df['Value']:\n",
    "    if((x>up_limit) or (x<low_limit)):\n",
    "        outlier.append(x)"
   ]
  },
  {
   "cell_type": "code",
   "execution_count": 17,
   "id": "2c787b92",
   "metadata": {},
   "outputs": [
    {
     "data": {
      "text/plain": [
       "[378941.101287171,\n",
       " 327151.032339985,\n",
       " 317999.663285868,\n",
       " 305439.066285043,\n",
       " 282125.857177885,\n",
       " 406.775,\n",
       " 434.925,\n",
       " 423.998,\n",
       " 408.617,\n",
       " 380.177,\n",
       " 378941.101287171,\n",
       " 325521.884318017,\n",
       " 301614.427766596,\n",
       " 277450.495978837,\n",
       " 234262.534383524,\n",
       " 406.775,\n",
       " 363.393,\n",
       " 338.185,\n",
       " 312.359,\n",
       " 265.983,\n",
       " 378941.101287171,\n",
       " 348413.388203939,\n",
       " 330083.797651829,\n",
       " 310708.759597433,\n",
       " 275883.292535253,\n",
       " 406.775,\n",
       " 391.633,\n",
       " 373.263,\n",
       " 353.316,\n",
       " 317.29,\n",
       " 95606.9540683695,\n",
       " 87072.4044398753,\n",
       " 87604.1733716721,\n",
       " 87605.7914055427,\n",
       " 87769.7423863712,\n",
       " 162.166,\n",
       " 178.872,\n",
       " 178.368,\n",
       " 176.408,\n",
       " 173.631,\n",
       " 95606.9540683695,\n",
       " 111550.270972259,\n",
       " 113840.363806684,\n",
       " 115367.173937741,\n",
       " 118404.979378691,\n",
       " 162.166,\n",
       " 194.874,\n",
       " 196.231,\n",
       " 195.834,\n",
       " 195.895,\n",
       " 95606.9540683695,\n",
       " 107306.508920419,\n",
       " 108569.163793389,\n",
       " 109134.27243541,\n",
       " 110347.389369022,\n",
       " 162.166,\n",
       " 186.942,\n",
       " 188.532,\n",
       " 188.415,\n",
       " 188.939,\n",
       " 303980.368413357,\n",
       " 267741.232940929,\n",
       " 262856.842091494,\n",
       " 256165.405787667,\n",
       " 243375.894175102,\n",
       " 326.308,\n",
       " 332.719,\n",
       " 321.072,\n",
       " 307.433,\n",
       " 284.635,\n",
       " 303980.368413357,\n",
       " 267852.995020353,\n",
       " 252634.057657705,\n",
       " 237327.267160621,\n",
       " 207833.985414615,\n",
       " 326.308,\n",
       " 283.237,\n",
       " 263.08,\n",
       " 242.778,\n",
       " 206.443,\n",
       " 303980.368413357,\n",
       " 291161.080865011,\n",
       " 278314.760614835,\n",
       " 264484.753987108,\n",
       " 237902.948758161,\n",
       " 326.308,\n",
       " 313.419,\n",
       " 295.345,\n",
       " 275.228,\n",
       " 238.715,\n",
       " 260827.367189797,\n",
       " 246646.932288667,\n",
       " 248022.962732104,\n",
       " 247605.220840771,\n",
       " 245057.407815319,\n",
       " 279.986,\n",
       " 324.822,\n",
       " 327.678,\n",
       " 328.117,\n",
       " 326.073,\n",
       " 260827.367189797,\n",
       " 257064.911776851,\n",
       " 249164.033916415,\n",
       " 239917.899865132,\n",
       " 219334.9605364,\n",
       " 279.986,\n",
       " 287.234,\n",
       " 279.83,\n",
       " 270.567,\n",
       " 248.849,\n",
       " 260827.367189797,\n",
       " 273174.96256514,\n",
       " 268560.951486765,\n",
       " 262442.236658896,\n",
       " 248573.859029208,\n",
       " 279.986,\n",
       " 309.027,\n",
       " 305.879,\n",
       " 300.341,\n",
       " 286.402,\n",
       " 5412.57297174127,\n",
       " 5100.26542058028,\n",
       " 5184.59613847723,\n",
       " 5240.18503400644,\n",
       " 5342.88906958202,\n",
       " 5412.57297174127,\n",
       " 6534.05626450838,\n",
       " 6737.30814274002,\n",
       " 6900.74627013665,\n",
       " 7207.77631226961,\n",
       " 5412.57297174127,\n",
       " 6285.47793495143,\n",
       " 6425.34762553814,\n",
       " 6527.92209211221,\n",
       " 6717.27914981562,\n",
       " 18856.456246917,\n",
       " 16271.7073337087,\n",
       " 16029.3953387724,\n",
       " 15683.1495318688,\n",
       " 14935.070774641,\n",
       " 18856.456246917,\n",
       " 17341.8479025567,\n",
       " 16502.6062293471,\n",
       " 15562.7155089237,\n",
       " 13655.6903362629,\n",
       " 18856.456246917,\n",
       " 17947.3888940747,\n",
       " 17234.3425651841,\n",
       " 16420.1738769531,\n",
       " 14772.0214410016,\n",
       " 521198.417454275,\n",
       " 444117.955808616,\n",
       " 437319.58059059,\n",
       " 427403.722793465,\n",
       " 411590.619432004,\n",
       " 884.041,\n",
       " 975.115,\n",
       " 972.367,\n",
       " 961.68,\n",
       " 946.544,\n",
       " 521198.417454275,\n",
       " 568968.763786765,\n",
       " 568290.50761088,\n",
       " 562843.607004185,\n",
       " 555252.613044886,\n",
       " 884.041,\n",
       " 1062.349,\n",
       " 1069.746,\n",
       " 1067.585,\n",
       " 1067.913,\n",
       " 521198.417454275,\n",
       " 547323.204099678,\n",
       " 541976.704394644,\n",
       " 532435.054519688,\n",
       " 517467.057646883,\n",
       " 884.041,\n",
       " 1019.111,\n",
       " 1027.779,\n",
       " 1027.139,\n",
       " 1029.996,\n",
       " 1815333.14026356,\n",
       " 1536874.38859501,\n",
       " 1484633.90600461,\n",
       " 1417244.69719233,\n",
       " 1290915.59347105,\n",
       " 1948.674,\n",
       " 2051.249,\n",
       " 1989.401,\n",
       " 1907.334,\n",
       " 1753.427,\n",
       " 1815333.14026356,\n",
       " 1541326.23919151,\n",
       " 1424613.94331103,\n",
       " 1306175.46200941,\n",
       " 1092492.67236359,\n",
       " 1948.674,\n",
       " 1723.642,\n",
       " 1600.621,\n",
       " 1474.175,\n",
       " 1244.732,\n",
       " 1815333.14026356,\n",
       " 1633852.85331702,\n",
       " 1538881.43977229,\n",
       " 1438992.98794291,\n",
       " 1257248.83065451,\n",
       " 1948.674,\n",
       " 1838.969,\n",
       " 1743.644,\n",
       " 1640.888,\n",
       " 1452.47,\n",
       " 36431.9296585088,\n",
       " 36113.4293884299,\n",
       " 36406.5775907906,\n",
       " 36005.0960605371,\n",
       " 34677.6368843281,\n",
       " 36431.9296585088,\n",
       " 34302.3920573585,\n",
       " 32885.7541957195,\n",
       " 31504.4573556257,\n",
       " 28516.1954326818,\n",
       " 36431.9296585088,\n",
       " 38630.5273727741,\n",
       " 38822.171314043,\n",
       " 39026.4294031624,\n",
       " 38728.2261207322,\n",
       " 2171463.86266109,\n",
       " 2065645.16496357,\n",
       " 2107870.96237844,\n",
       " 2137748.05570422,\n",
       " 2194313.38575425,\n",
       " 3683.173,\n",
       " 4585.955,\n",
       " 4753.295,\n",
       " 4893.493,\n",
       " 5165.542,\n",
       " 2171463.86266109,\n",
       " 2542477.29082061,\n",
       " 2614716.64328936,\n",
       " 2678097.89573567,\n",
       " 2802186.01660807,\n",
       " 3683.173,\n",
       " 4794.878,\n",
       " 4986.759,\n",
       " 5160.987,\n",
       " 5503.881,\n",
       " 2171463.86266109,\n",
       " 2490430.87788815,\n",
       " 2551607.10631807,\n",
       " 2602987.46642502,\n",
       " 2703767.42447355,\n",
       " 3683.173,\n",
       " 4703.48,\n",
       " 4916.251,\n",
       " 5107.698,\n",
       " 5485.025,\n",
       " 932033.669286751,\n",
       " 819658.318548154,\n",
       " 813671.601090454,\n",
       " 801543.17162673,\n",
       " 773617.196871588,\n",
       " 1000.494,\n",
       " 1120.321,\n",
       " 1123.741,\n",
       " 1118.766,\n",
       " 1102.671,\n",
       " 932033.669286751,\n",
       " 806338.949195638,\n",
       " 763313.278923413,\n",
       " 719813.514665946,\n",
       " 633838.802924821,\n",
       " 1000.494,\n",
       " 924.293,\n",
       " 884.52,\n",
       " 842.682,\n",
       " 756.696,\n",
       " 932033.669286751,\n",
       " 865261.710869609,\n",
       " 834647.139586776,\n",
       " 801762.649042993,\n",
       " 734963.275177782,\n",
       " 1000.494,\n",
       " 1005.266,\n",
       " 981.241,\n",
       " 952.658,\n",
       " 891.411,\n",
       " 1216311.05849127,\n",
       " 1208800.35571388,\n",
       " 1242363.06439271,\n",
       " 1269157.22446157,\n",
       " 1321579.33786982,\n",
       " 2063.071,\n",
       " 2651.961,\n",
       " 2760.828,\n",
       " 2854.956,\n",
       " 3039.317,\n",
       " 1216311.05849127,\n",
       " 1502499.63868308,\n",
       " 1559928.92366557,\n",
       " 1612888.93387074,\n",
       " 1718755.14367904,\n",
       " 2063.071,\n",
       " 2809.663,\n",
       " 2943.59,\n",
       " 3068.676,\n",
       " 3318.323,\n",
       " 1216311.05849127,\n",
       " 1471702.2513,\n",
       " 1522217.49076192,\n",
       " 1567876.82371724,\n",
       " 1659615.47776749,\n",
       " 2063.071,\n",
       " 2748.64,\n",
       " 2895.622,\n",
       " 3032.699,\n",
       " 3307.336,\n",
       " 2398870.52938726,\n",
       " 2302616.84347515,\n",
       " 2318725.23452679,\n",
       " 2317585.90373156,\n",
       " 2302005.72969841,\n",
       " 2575.073,\n",
       " 3073.322,\n",
       " 3109.901,\n",
       " 3123.858,\n",
       " 3131.535,\n",
       " 2398870.52938726,\n",
       " 2310060.40075623,\n",
       " 2228713.71755459,\n",
       " 2141741.90431661,\n",
       " 1956158.45495698,\n",
       " 2575.073,\n",
       " 2603.48,\n",
       " 2528.229,\n",
       " 2443.944,\n",
       " 2256.377,\n",
       " 2398870.52938726,\n",
       " 2478731.69135961,\n",
       " 2436799.67836712,\n",
       " 2386253.93182173,\n",
       " 2271606.16550465,\n",
       " 2575.073,\n",
       " 2816.238,\n",
       " 2792.432,\n",
       " 2755.092,\n",
       " 2658.696,\n",
       " 13823710.0010169,\n",
       " 13010120.4208283,\n",
       " 13148240.7623637,\n",
       " 13210948.0608292,\n",
       " 13376491.2878216,\n",
       " 23447.368,\n",
       " 26674.458,\n",
       " 26728.584,\n",
       " 26589.586,\n",
       " 26543.823,\n",
       " 13823710.0010169,\n",
       " 16207301.151173,\n",
       " 16566494.2377618,\n",
       " 16858692.6050349,\n",
       " 17468989.1119799,\n",
       " 23447.368,\n",
       " 28458.45,\n",
       " 28733.352,\n",
       " 28817.571,\n",
       " 29146.713,\n",
       " 13823710.0010169,\n",
       " 15956125.837997,\n",
       " 16212831.6781594,\n",
       " 16384753.5150635,\n",
       " 16753241.474411,\n",
       " 23447.368,\n",
       " 28196.393,\n",
       " 28528.624,\n",
       " 28576.572,\n",
       " 28753.162,\n",
       " 10776819.4280765,\n",
       " 9598358.97562866,\n",
       " 9442505.67244337,\n",
       " 9227761.47432497,\n",
       " 8819526.55644794,\n",
       " 11568.402,\n",
       " 11958.663,\n",
       " 11573.351,\n",
       " 11126.211,\n",
       " 10384.036,\n",
       " 10776819.4280765,\n",
       " 9672479.62411523,\n",
       " 9139146.19911049,\n",
       " 8598632.64349675,\n",
       " 7557053.3423212,\n",
       " 11568.402,\n",
       " 10272.727,\n",
       " 9564.748,\n",
       " 8849.842,\n",
       " 7568.108,\n",
       " 10776819.4280765,\n",
       " 10484949.7418788,\n",
       " 10050412.6475485,\n",
       " 9576261.62604626,\n",
       " 8656786.61525215,\n",
       " 11568.402,\n",
       " 11398.253,\n",
       " 10762.164,\n",
       " 10044.522,\n",
       " 8736.091,\n",
       " 681944.200464309,\n",
       " 667275.498799232,\n",
       " 671234.943395988,\n",
       " 668989.920947711,\n",
       " 662707.368816765,\n",
       " 732.035,\n",
       " 803.185,\n",
       " 787.162,\n",
       " 763.582,\n",
       " 722.476,\n",
       " 681944.200464309,\n",
       " 670187.381469789,\n",
       " 645581.763037563,\n",
       " 618573.761668978,\n",
       " 564342.604298416,\n",
       " 732.035,\n",
       " 685.292,\n",
       " 644.244,\n",
       " 601.038,\n",
       " 523.57,\n",
       " 681944.200464309,\n",
       " 708956.847750769,\n",
       " 690864.020570427,\n",
       " 670043.111082837,\n",
       " 630080.444399438,\n",
       " 732.035,\n",
       " 735.606,\n",
       " 701.589,\n",
       " 663.576,\n",
       " 597.041,\n",
       " 28933.7074646839,\n",
       " 27264.2213678716,\n",
       " 27715.0236636848,\n",
       " 28012.1823070738,\n",
       " 28561.201883586,\n",
       " 28933.7074646839,\n",
       " 34928.7618849876,\n",
       " 36015.2747906067,\n",
       " 36888.9574164778,\n",
       " 38530.2318100656,\n",
       " 28933.7074646839,\n",
       " 33599.9497457313,\n",
       " 34347.6438150289,\n",
       " 34895.9707613251,\n",
       " 35908.2068535807,\n",
       " 17818560.6816591,\n",
       " 16292523.2939771,\n",
       " 16376016.4842495,\n",
       " 16366366.3769462,\n",
       " 16395944.6515852,\n",
       " 30223.316,\n",
       " 33685.698,\n",
       " 33594.212,\n",
       " 33247.784,\n",
       " 32810.161,\n",
       " 17818560.6816591,\n",
       " 19950225.5574502,\n",
       " 20252380.9738939,\n",
       " 20496137.4787166,\n",
       " 21015065.144257,\n",
       " 30223.316,\n",
       " 35067.243,\n",
       " 35225.893,\n",
       " 35193.411,\n",
       " 35320.012,\n",
       " 17818560.6816591,\n",
       " 19767001.2287399,\n",
       " 20009883.3798282,\n",
       " 20179715.8037675,\n",
       " 20553519.4348088,\n",
       " 30223.316,\n",
       " 34890.187,\n",
       " 35237.671,\n",
       " 35329.156,\n",
       " 35640.611,\n",
       " 1531059.43980979,\n",
       " 1442716.71873695,\n",
       " 1466571.42561594,\n",
       " 1482295.90705812,\n",
       " 1511347.8910213,\n",
       " 2596.938,\n",
       " 3167.661,\n",
       " 3260.879,\n",
       " 3335.242,\n",
       " 3475.679,\n",
       " 1531059.43980979,\n",
       " 1848294.43893953,\n",
       " 1905788.48261346,\n",
       " 1952020.37437398,\n",
       " 2038870.24166762,\n",
       " 2596.938,\n",
       " 3451.039,\n",
       " 3587.443,\n",
       " 3702.536,\n",
       " 3921.344,\n",
       " 1531059.43980979,\n",
       " 1777978.86075013,\n",
       " 1817543.9273523,\n",
       " 1846559.26001417,\n",
       " 1900122.8631665,\n",
       " 2596.938,\n",
       " 3310.582,\n",
       " 3446.703,\n",
       " 3562.263,\n",
       " 3782.114,\n",
       " 2727045.9350151,\n",
       " 2595073.14813064,\n",
       " 2600577.53462945,\n",
       " 2583152.52726623,\n",
       " 2534714.3649194,\n",
       " 2927.354,\n",
       " 3424.485,\n",
       " 3443.845,\n",
       " 3436.361,\n",
       " 3399.195,\n",
       " 2727045.9350151,\n",
       " 2559187.32533129,\n",
       " 2458019.46854604,\n",
       " 2355015.44495948,\n",
       " 2141847.1256167,\n",
       " 2927.354,\n",
       " 2876.272,\n",
       " 2782.724,\n",
       " 2682.274,\n",
       " 2462.046,\n",
       " 2727045.9350151,\n",
       " 2798692.10835071,\n",
       " 2739973.29839319,\n",
       " 2671610.60256896,\n",
       " 2528931.56763136,\n",
       " 2927.354,\n",
       " 3202.643,\n",
       " 3160.415,\n",
       " 3095.948,\n",
       " 2943.933,\n",
       " 372558.081340702,\n",
       " 370003.237339249,\n",
       " 380577.347097183,\n",
       " 388945.91266511,\n",
       " 405095.36141094,\n",
       " 631.922,\n",
       " 809.325,\n",
       " 842.417,\n",
       " 870.663,\n",
       " 925.486,\n",
       " 372558.081340702,\n",
       " 457377.63091155,\n",
       " 474891.04569452,\n",
       " 491134.9545135,\n",
       " 523645.512167806,\n",
       " 631.922,\n",
       " 853.273,\n",
       " 893.389,\n",
       " 930.88,\n",
       " 1005.589,\n",
       " 372558.081340702,\n",
       " 449036.78058689,\n",
       " 464605.456542503,\n",
       " 478868.932190628,\n",
       " 507849.833319824,\n",
       " 631.922,\n",
       " 837.943,\n",
       " 882.478,\n",
       " 924.077,\n",
       " 1007.692,\n",
       " 2065474.53074329,\n",
       " 1979875.74715867,\n",
       " 1996882.28246243,\n",
       " 1997550.56209365,\n",
       " 1984946.60869236,\n",
       " 2217.188,\n",
       " 2626.842,\n",
       " 2657.277,\n",
       " 2666.291,\n",
       " 2664.768,\n",
       " 2065474.53074329,\n",
       " 1964530.57877685,\n",
       " 1895601.28888412,\n",
       " 1822528.24328041,\n",
       " 1666345.87177974,\n",
       " 2217.188,\n",
       " 2203.617,\n",
       " 2137.26,\n",
       " 2063.911,\n",
       " 1901.647,\n",
       " 2065474.53074329,\n",
       " 2117716.45357793,\n",
       " 2083288.39233443,\n",
       " 2042868.769076,\n",
       " 1952104.59292373,\n",
       " 2217.188,\n",
       " 2402.023,\n",
       " 2380.242,\n",
       " 2347.515,\n",
       " 2265.073,\n",
       " 751867.164324126,\n",
       " 714796.035282864,\n",
       " 726720.61522667,\n",
       " 734113.784211881,\n",
       " 749040.758539952,\n",
       " 1275.295,\n",
       " 1575.507,\n",
       " 1623.903,\n",
       " 1662.162,\n",
       " 1737.933,\n",
       " 751867.164324126,\n",
       " 884288.148663046,\n",
       " 909356.950951322,\n",
       " 931500.995041464,\n",
       " 976008.597644586,\n",
       " 1275.295,\n",
       " 1661.087,\n",
       " 1724.749,\n",
       " 1782.668,\n",
       " 1898.642,\n",
       " 751867.164324126,\n",
       " 866156.459353213,\n",
       " 887366.400677193,\n",
       " 905232.079052434,\n",
       " 941361.119259269,\n",
       " 1275.295,\n",
       " 1625.768,\n",
       " 1697.407,\n",
       " 1761.689,\n",
       " 1889.874,\n",
       " 5759157.31796347,\n",
       " 5058665.87240555,\n",
       " 4984784.55268025,\n",
       " 4871816.83482637,\n",
       " 4646115.76365228,\n",
       " 6182.181,\n",
       " 6815.12,\n",
       " 6760.007,\n",
       " 6652.706,\n",
       " 6433.254,\n",
       " 5759157.31796347,\n",
       " 5027376.35598208,\n",
       " 4758528.25630392,\n",
       " 4488322.57454796,\n",
       " 3963168.17892819,\n",
       " 6182.181,\n",
       " 5717.279,\n",
       " 5453.466,\n",
       " 5181.907,\n",
       " 4641.084,\n",
       " 5759157.31796347,\n",
       " 5394379.72098651,\n",
       " 5202733.49589219,\n",
       " 4997719.22881065,\n",
       " 4591872.33997074,\n",
       " 6182.181,\n",
       " 6190.272,\n",
       " 6028.788,\n",
       " 5841.108,\n",
       " 5454.276,\n",
       " 380178.058601293,\n",
       " 361315.10208224,\n",
       " 368493.953107883,\n",
       " 373282.33102402,\n",
       " 382386.743275295,\n",
       " 644.847,\n",
       " 812.637,\n",
       " 842.334,\n",
       " 866.549,\n",
       " 912.894,\n",
       " 380178.058601293,\n",
       " 445621.962586889,\n",
       " 461112.575844415,\n",
       " 475884.985218847,\n",
       " 505980.064104279,\n",
       " 644.847,\n",
       " 843.956,\n",
       " 884.494,\n",
       " 922.99,\n",
       " 1000.419,\n",
       " 380178.058601293,\n",
       " 442771.470574907,\n",
       " 458960.360820081,\n",
       " 474604.937354525,\n",
       " 506961.744154102,\n",
       " 644.847,\n",
       " 849.368,\n",
       " 899.25,\n",
       " 947.665,\n",
       " 1046.626,\n",
       " 79244.5813301373,\n",
       " 74672.1383779212,\n",
       " 75906.8104032046,\n",
       " 76720.6781839839,\n",
       " 78224.3508998243,\n",
       " 134.412,\n",
       " 163.952,\n",
       " 168.777,\n",
       " 172.625,\n",
       " 179.894,\n",
       " 79244.5813301373,\n",
       " 95664.031833265,\n",
       " 98639.8088027622,\n",
       " 101032.679263179,\n",
       " 105527.855082817,\n",
       " 134.412,\n",
       " 178.619,\n",
       " 185.679,\n",
       " 191.636,\n",
       " 202.961,\n",
       " 79244.5813301373,\n",
       " 92024.6378229986,\n",
       " 94072.4467170659,\n",
       " 95574.222434689,\n",
       " 98346.5676460988,\n",
       " 134.412,\n",
       " 171.349,\n",
       " 178.394,\n",
       " 184.376,\n",
       " 195.755,\n",
       " 276026.908734681,\n",
       " 238190.51768507,\n",
       " 234643.476287907,\n",
       " 229575.018116846,\n",
       " 218624.399180617,\n",
       " 296.302,\n",
       " 318.421,\n",
       " 315.056,\n",
       " 309.597,\n",
       " 297.396,\n",
       " 276026.908734681,\n",
       " 253855.58164315,\n",
       " 241570.490441283,\n",
       " 227812.065914974,\n",
       " 199896.414299636,\n",
       " 296.302,\n",
       " 285.23,\n",
       " 272.698,\n",
       " 258.367,\n",
       " 228.82,\n",
       " 276026.908734681,\n",
       " 262719.68663786,\n",
       " 252281.883724576,\n",
       " 240363.818990768,\n",
       " 216237.630269937,\n",
       " 296.302,\n",
       " 296.683,\n",
       " 287.314,\n",
       " 276.045,\n",
       " 252.482,\n",
       " 529914.859294614,\n",
       " 499105.213329611,\n",
       " 496349.749355023,\n",
       " 489570.950204562,\n",
       " 476222.73964938,\n",
       " 568.838,\n",
       " 605.207,\n",
       " 587.435,\n",
       " 565.057,\n",
       " 527.518,\n",
       " 529914.859294614,\n",
       " 505265.72866466,\n",
       " 481869.995541149,\n",
       " 457155.59738937,\n",
       " 409052.769788961,\n",
       " 568.838,\n",
       " 520.876,\n",
       " 485.853,\n",
       " 449.776,\n",
       " 386.008,\n",
       " 529914.859294614,\n",
       " 544861.172497906,\n",
       " 527218.695108113,\n",
       " 507354.274554512,\n",
       " 469690.061752774,\n",
       " 568.838,\n",
       " 571.129,\n",
       " 541.544,\n",
       " 508.631,\n",
       " 451.126,\n",
       " 1261160.34910778,\n",
       " 1188390.90982122,\n",
       " 1208040.44769881,\n",
       " 1220992.97716273,\n",
       " 1244923.60277047,\n",
       " 2139.143,\n",
       " 2609.258,\n",
       " 2686.043,\n",
       " 2747.297,\n",
       " 2862.977,\n",
       " 1261160.34910778,\n",
       " 1522472.3477467,\n",
       " 1569831.1937236,\n",
       " 1607913.20885415,\n",
       " 1679452.95846022,\n",
       " 2139.143,\n",
       " 2842.681,\n",
       " 2955.039,\n",
       " 3049.843,\n",
       " 3230.079,\n",
       " 1261160.34910778,\n",
       " 1464552.18029188,\n",
       " 1497142.61532729,\n",
       " 1521043.05061925,\n",
       " 1565164.32422536,\n",
       " 2139.143,\n",
       " 2726.984,\n",
       " 2839.109,\n",
       " 2934.298,\n",
       " 3115.394,\n",
       " 4777290.25764672,\n",
       " 4122443.1517091,\n",
       " 4061053.31697227,\n",
       " 3973331.81201866,\n",
       " 3783805.77849149,\n",
       " 5128.193,\n",
       " 5511.011,\n",
       " 5452.773,\n",
       " 5358.305,\n",
       " 5147.124,\n",
       " 4777290.25764672,\n",
       " 4393563.66592056,\n",
       " 4180941.47346108,\n",
       " 3942819.80716628,\n",
       " 3459674.26491047,\n",
       " 5128.193,\n",
       " 4936.57,\n",
       " 4719.671,\n",
       " 4471.65,\n",
       " 3960.264,\n",
       " 4777290.25764672,\n",
       " 4546977.7030813,\n",
       " 4366327.14840368,\n",
       " 4160057.20608602,\n",
       " 3742497.16870229,\n",
       " 5128.193,\n",
       " 5134.784,\n",
       " 4972.633,\n",
       " 4777.596,\n",
       " 4369.798,\n",
       " 5590.87340676848,\n",
       " 5817.80815200132,\n",
       " 6019.37523590356,\n",
       " 6131.94526019428,\n",
       " 6290.85169154132,\n",
       " 5590.87340676848,\n",
       " 6873.19335730688,\n",
       " 7128.87020762245,\n",
       " 7382.3056256278,\n",
       " 7877.5839264369,\n",
       " 5590.87340676848,\n",
       " 7012.55970053201,\n",
       " 7400.64673365239,\n",
       " 7801.32016599377,\n",
       " 8575.92162446069,\n",
       " 190833.07962061,\n",
       " 200820.550658182,\n",
       " 204942.440368873,\n",
       " 203694.062394059,\n",
       " 196388.320667099,\n",
       " 204.85,\n",
       " 247.085,\n",
       " 248.382,\n",
       " 246.13,\n",
       " 238.512,\n",
       " 190833.07962061,\n",
       " 182007.191965288,\n",
       " 175251.975935548,\n",
       " 168934.789256876,\n",
       " 154717.318523023,\n",
       " 204.85,\n",
       " 199.35,\n",
       " 192.257,\n",
       " 184.798,\n",
       " 168.273,\n",
       " 190833.07962061,\n",
       " 211894.457515837,\n",
       " 216861.573074966,\n",
       " 222436.381983911,\n",
       " 228379.19378897,\n",
       " 204.85,\n",
       " 228.043,\n",
       " 228.732,\n",
       " 229.0,\n",
       " 227.223,\n",
       " 967954.205756878,\n",
       " 999316.84966352,\n",
       " 1032051.78603274,\n",
       " 1049562.52165211,\n",
       " 1072925.97271147,\n",
       " 1641.815,\n",
       " 2106.585,\n",
       " 2180.534,\n",
       " 2233.95,\n",
       " 2325.942,\n",
       " 967954.205756878,\n",
       " 1176268.42694637,\n",
       " 1214499.11733467,\n",
       " 1252055.89812414,\n",
       " 1324440.43792243,\n",
       " 1641.815,\n",
       " 2163.603,\n",
       " 2247.033,\n",
       " 2323.369,\n",
       " 2469.086,\n",
       " 96.362,\n",
       " 967954.205756878,\n",
       " 1200408.61335996,\n",
       " 1263361.75870324,\n",
       " 1329029.62156371,\n",
       " 1458754.2773957,\n",
       " 1641.815,\n",
       " 2175.442,\n",
       " 2297.83,\n",
       " 2418.014,\n",
       " 2662.103,\n",
       " 95.246,\n",
       " 100.827,\n",
       " 111.624,\n",
       " 126758.57765933,\n",
       " 131301.345294111,\n",
       " 133507.431859618,\n",
       " 132242.744345271,\n",
       " 126592.994699352,\n",
       " 136.069,\n",
       " 161.801,\n",
       " 161.862,\n",
       " 159.584,\n",
       " 153.022,\n",
       " 126758.57765933,\n",
       " 118129.318768983,\n",
       " 112716.970656877,\n",
       " 107685.166263353,\n",
       " 96915.0245841029,\n",
       " 136.069,\n",
       " 128.81,\n",
       " 122.922,\n",
       " 116.89,\n",
       " 104.231,\n",
       " 126758.57765933,\n",
       " 137593.54289519,\n",
       " 140046.44963748,\n",
       " 143058.060871648,\n",
       " 146430.858099222,\n",
       " 136.069,\n",
       " 147.19,\n",
       " 146.719,\n",
       " 146.132,\n",
       " 143.718,\n",
       " 92.833,\n",
       " 259487.005780679,\n",
       " 248484.947641013,\n",
       " 253333.658188205,\n",
       " 256494.37459932,\n",
       " 262553.623798637,\n",
       " 440.134,\n",
       " 546.774,\n",
       " 565.036,\n",
       " 579.591,\n",
       " 607.901,\n",
       " 259487.005780679,\n",
       " 304969.838289221,\n",
       " 313778.463068749,\n",
       " 321522.725838571,\n",
       " 336797.001972526,\n",
       " 440.134,\n",
       " 573.254,\n",
       " 595.661,\n",
       " 615.895,\n",
       " 655.832,\n",
       " 259487.005780679,\n",
       " 299671.381955837,\n",
       " 307510.290810964,\n",
       " 314222.770904447,\n",
       " 327809.698453675,\n",
       " 440.134,\n",
       " 561.928,\n",
       " 587.507,\n",
       " 610.567,\n",
       " 656.681,\n",
       " 444369.894859163,\n",
       " 396012.223469469,\n",
       " 392404.442531471,\n",
       " 385262.357822292,\n",
       " 369787.183230405,\n",
       " 477.01,\n",
       " 531.724,\n",
       " 530.171,\n",
       " 524.001,\n",
       " 509.879,\n",
       " 444369.894859163,\n",
       " 387350.626423377,\n",
       " 367017.547088339,\n",
       " 346399.662720944,\n",
       " 305709.084099292,\n",
       " 477.01,\n",
       " 441.098,\n",
       " 421.363,\n",
       " 400.681,\n",
       " 358.72,\n",
       " ...]"
      ]
     },
     "execution_count": 17,
     "metadata": {},
     "output_type": "execute_result"
    }
   ],
   "source": [
    "outlier"
   ]
  },
  {
   "cell_type": "code",
   "execution_count": 18,
   "id": "75eb1cfa",
   "metadata": {},
   "outputs": [
    {
     "data": {
      "text/plain": [
       "Int64Index([    0,     1,     2,     3,     4,     5,     6,     7,     8,\n",
       "                9,\n",
       "            ...\n",
       "            65520, 65521, 65522, 65523, 65524, 65525, 65526, 65527, 65528,\n",
       "            65529],\n",
       "           dtype='int64', length=14379)"
      ]
     },
     "execution_count": 18,
     "metadata": {},
     "output_type": "execute_result"
    }
   ],
   "source": [
    "ind1=df['Value']>up_limit\n",
    "df.loc[ind1].index"
   ]
  },
  {
   "cell_type": "code",
   "execution_count": 19,
   "id": "e2b2d2e9",
   "metadata": {},
   "outputs": [],
   "source": [
    "df.drop([0,     1,     2,     3,     4,     5,     6,     7,     8,  9, 65520, 65521, 65522, 65523, 65524, 65525, 65526, 65527, 65528,65529],inplace=True)"
   ]
  },
  {
   "cell_type": "code",
   "execution_count": 20,
   "id": "e4448018",
   "metadata": {},
   "outputs": [
    {
     "data": {
      "text/plain": [
       "Text(0.5, 1.0, 'boxplot of Value')"
      ]
     },
     "execution_count": 20,
     "metadata": {},
     "output_type": "execute_result"
    },
    {
     "data": {
      "image/png": "[encoded data removed]",
      "text/plain": [
       "<Figure size 432x288 with 1 Axes>"
      ]
     },
     "metadata": {},
     "output_type": "display_data"
    }
   ],
   "source": [
    "plt.boxplot(df['Value'])\n",
    "plt.title('boxplot of Value')"
   ]
  },
  {
   "cell_type": "markdown",
   "id": "c0874f6f",
   "metadata": {},
   "source": [
    "#  \n",
    "Dataset has no outiers significantly"
   ]
  },
  {
   "cell_type": "code",
   "execution_count": 21,
   "id": "06eb2382",
   "metadata": {},
   "outputs": [],
   "source": [
    "x = df.drop(['Domain','Indicator','Item','Element','CountryName','Region','Scenario','Units','CountryCode'],axis=1)\n",
    "from sklearn.preprocessing import StandardScaler\n",
    "scaler=StandardScaler()\n",
    "x=scaler.fit_transform(x)"
   ]
  },
  {
   "cell_type": "markdown",
   "id": "3de198a5",
   "metadata": {},
   "source": [
    "# 3.Label Encoding"
   ]
  },
  {
   "cell_type": "code",
   "execution_count": 22,
   "id": "3a75df9b",
   "metadata": {},
   "outputs": [],
   "source": [
    "from sklearn.preprocessing import LabelEncoder"
   ]
  },
  {
   "cell_type": "code",
   "execution_count": 23,
   "id": "778d4184",
   "metadata": {},
   "outputs": [
    {
     "data": {
      "text/html": [
       "<div>\n",
       "<style scoped>\n",
       "    .dataframe tbody tr th:only-of-type {\n",
       "        vertical-align: middle;\n",
       "    }\n",
       "\n",
       "    .dataframe tbody tr th {\n",
       "        vertical-align: top;\n",
       "    }\n",
       "\n",
       "    .dataframe thead th {\n",
       "        text-align: right;\n",
       "    }\n",
       "</style>\n",
       "<table border=\"1\" class=\"dataframe\">\n",
       "  <thead>\n",
       "    <tr style=\"text-align: right;\">\n",
       "      <th></th>\n",
       "      <th>0</th>\n",
       "      <th>1</th>\n",
       "    </tr>\n",
       "  </thead>\n",
       "  <tbody>\n",
       "    <tr>\n",
       "      <th>0</th>\n",
       "      <td>-1.701201</td>\n",
       "      <td>1627.0</td>\n",
       "    </tr>\n",
       "    <tr>\n",
       "      <th>1</th>\n",
       "      <td>-0.270284</td>\n",
       "      <td>2024.0</td>\n",
       "    </tr>\n",
       "    <tr>\n",
       "      <th>2</th>\n",
       "      <td>0.127193</td>\n",
       "      <td>2032.0</td>\n",
       "    </tr>\n",
       "    <tr>\n",
       "      <th>3</th>\n",
       "      <td>0.524669</td>\n",
       "      <td>2040.0</td>\n",
       "    </tr>\n",
       "    <tr>\n",
       "      <th>4</th>\n",
       "      <td>1.319623</td>\n",
       "      <td>2056.0</td>\n",
       "    </tr>\n",
       "  </tbody>\n",
       "</table>\n",
       "</div>"
      ],
      "text/plain": [
       "          0       1\n",
       "0 -1.701201  1627.0\n",
       "1 -0.270284  2024.0\n",
       "2  0.127193  2032.0\n",
       "3  0.524669  2040.0\n",
       "4  1.319623  2056.0"
      ]
     },
     "execution_count": 23,
     "metadata": {},
     "output_type": "execute_result"
    }
   ],
   "source": [
    "labelencoder = LabelEncoder()\n",
    "x[:, 1] = labelencoder.fit_transform(x[:, 1])\n",
    "x1 = pd.DataFrame(x)\n",
    "x1.head()"
   ]
  },
  {
   "cell_type": "code",
   "execution_count": 24,
   "id": "84edf713",
   "metadata": {},
   "outputs": [],
   "source": [
    "df = pd.read_excel(\"Crop_1.xls\")"
   ]
  },
  {
   "cell_type": "code",
   "execution_count": 25,
   "id": "01bb57ff",
   "metadata": {},
   "outputs": [
    {
     "data": {
      "text/plain": [
       "array(['Arable land', 'Harvested area', 'Cropping intensity',\n",
       "       'Climate shifter', 'Crop yield', 'Technology shifter'],\n",
       "      dtype=object)"
      ]
     },
     "execution_count": 25,
     "metadata": {},
     "output_type": "execute_result"
    }
   ],
   "source": [
    "df.Indicator.unique()"
   ]
  },
  {
   "cell_type": "code",
   "execution_count": 26,
   "id": "faa53518",
   "metadata": {},
   "outputs": [
    {
     "data": {
      "text/plain": [
       "Index(['Domain', 'Indicator', 'Item', 'Element', 'CountryCode', 'CountryName',\n",
       "       'Region', 'Scenario', 'Units', 'Year', 'Value'],\n",
       "      dtype='object')"
      ]
     },
     "execution_count": 26,
     "metadata": {},
     "output_type": "execute_result"
    }
   ],
   "source": [
    "df.columns"
   ]
  },
  {
   "cell_type": "markdown",
   "id": "7fc859e2",
   "metadata": {},
   "source": [
    "# 6.Feature Engineering"
   ]
  },
  {
   "cell_type": "code",
   "execution_count": 65,
   "id": "8008fdbc",
   "metadata": {},
   "outputs": [],
   "source": [
    "x['mean'] = x[['Year','Value']].mean(axis = 1)\n",
    "x['sum'] = x[['Year','Value']].sum(axis = 1)\n",
    "x['skew'] = x[['Year','Value']].skew(axis = 1)\n",
    "x['kurt'] = x[['Year','Value']].kurt(axis = 1)"
   ]
  },
  {
   "cell_type": "code",
   "execution_count": 32,
   "id": "c25948d8",
   "metadata": {},
   "outputs": [
    {
     "data": {
      "text/html": [
       "<div>\n",
       "<style scoped>\n",
       "    .dataframe tbody tr th:only-of-type {\n",
       "        vertical-align: middle;\n",
       "    }\n",
       "\n",
       "    .dataframe tbody tr th {\n",
       "        vertical-align: top;\n",
       "    }\n",
       "\n",
       "    .dataframe thead th {\n",
       "        text-align: right;\n",
       "    }\n",
       "</style>\n",
       "<table border=\"1\" class=\"dataframe\">\n",
       "  <thead>\n",
       "    <tr style=\"text-align: right;\">\n",
       "      <th></th>\n",
       "      <th>Year</th>\n",
       "      <th>Value</th>\n",
       "    </tr>\n",
       "  </thead>\n",
       "  <tbody>\n",
       "    <tr>\n",
       "      <th>count</th>\n",
       "      <td>65535.000000</td>\n",
       "      <td>6.553500e+04</td>\n",
       "    </tr>\n",
       "    <tr>\n",
       "      <th>mean</th>\n",
       "      <td>2033.400000</td>\n",
       "      <td>7.644430e+04</td>\n",
       "    </tr>\n",
       "    <tr>\n",
       "      <th>std</th>\n",
       "      <td>12.579444</td>\n",
       "      <td>6.888799e+05</td>\n",
       "    </tr>\n",
       "    <tr>\n",
       "      <th>min</th>\n",
       "      <td>2012.000000</td>\n",
       "      <td>1.000000e-03</td>\n",
       "    </tr>\n",
       "    <tr>\n",
       "      <th>25%</th>\n",
       "      <td>2030.000000</td>\n",
       "      <td>1.000000e+00</td>\n",
       "    </tr>\n",
       "    <tr>\n",
       "      <th>50%</th>\n",
       "      <td>2035.000000</td>\n",
       "      <td>1.453000e+00</td>\n",
       "    </tr>\n",
       "    <tr>\n",
       "      <th>75%</th>\n",
       "      <td>2040.000000</td>\n",
       "      <td>3.739800e+01</td>\n",
       "    </tr>\n",
       "    <tr>\n",
       "      <th>max</th>\n",
       "      <td>2050.000000</td>\n",
       "      <td>2.101507e+07</td>\n",
       "    </tr>\n",
       "  </tbody>\n",
       "</table>\n",
       "</div>"
      ],
      "text/plain": [
       "               Year         Value\n",
       "count  65535.000000  6.553500e+04\n",
       "mean    2033.400000  7.644430e+04\n",
       "std       12.579444  6.888799e+05\n",
       "min     2012.000000  1.000000e-03\n",
       "25%     2030.000000  1.000000e+00\n",
       "50%     2035.000000  1.453000e+00\n",
       "75%     2040.000000  3.739800e+01\n",
       "max     2050.000000  2.101507e+07"
      ]
     },
     "execution_count": 32,
     "metadata": {},
     "output_type": "execute_result"
    }
   ],
   "source": [
    "y = df['Year']\n",
    "x = df.drop(['Domain','Indicator','Item','Element','CountryName','Region','Scenario','Units','CountryCode'],axis=1)\n",
    "x.describe()"
   ]
  },
  {
   "cell_type": "code",
   "execution_count": 33,
   "id": "97d3cf7e",
   "metadata": {},
   "outputs": [
    {
     "data": {
      "text/plain": [
       "Index(['Year', 'Value'], dtype='object')"
      ]
     },
     "execution_count": 33,
     "metadata": {},
     "output_type": "execute_result"
    }
   ],
   "source": [
    "x.columns"
   ]
  },
  {
   "cell_type": "markdown",
   "id": "14c194ba",
   "metadata": {},
   "source": [
    "# \n",
    "Splitting the data"
   ]
  },
  {
   "cell_type": "code",
   "execution_count": 34,
   "id": "16894c00",
   "metadata": {},
   "outputs": [],
   "source": [
    "from sklearn.model_selection import train_test_split\n",
    "x_train, x_test, y_train, y_test = train_test_split(x, y, random_state = 2, test_size = 0.3)"
   ]
  },
  {
   "cell_type": "markdown",
   "id": "7a839ecb",
   "metadata": {},
   "source": [
    "# Standard Scaling"
   ]
  },
  {
   "cell_type": "code",
   "execution_count": 35,
   "id": "6b6a5827",
   "metadata": {},
   "outputs": [],
   "source": [
    "from sklearn.preprocessing import StandardScaler\n",
    "scaler = StandardScaler()\n",
    "x_train = scaler.fit_transform(x_train)\n",
    "x_test = scaler.fit_transform(x_test)"
   ]
  },
  {
   "cell_type": "markdown",
   "id": "9d57f669",
   "metadata": {},
   "source": [
    "# 4.Classification model"
   ]
  },
  {
   "cell_type": "markdown",
   "id": "01748cbd",
   "metadata": {},
   "source": [
    "# building the Model-Logistic Regression Algorithm"
   ]
  },
  {
   "cell_type": "code",
   "execution_count": 36,
   "id": "6f15ac0c",
   "metadata": {},
   "outputs": [],
   "source": [
    "from sklearn.linear_model import LogisticRegression\n",
    "logit_model = LogisticRegression()\n",
    "logit_model.fit(x_train, y_train)\n",
    "y_pred = logit_model.predict(x_test)\n",
    "from sklearn.metrics import confusion_matrix, accuracy_score, precision_score, recall_score, f1_score"
   ]
  },
  {
   "cell_type": "code",
   "execution_count": 37,
   "id": "16a6655b",
   "metadata": {},
   "outputs": [
    {
     "name": "stdout",
     "output_type": "stream",
     "text": [
      "Accuracy is:  1.0\n",
      "Precision is:  1.0\n",
      "Recall is:  1.0\n",
      "F1 score is:  1.0\n"
     ]
    }
   ],
   "source": [
    "print(\"Accuracy is: \", accuracy_score(y_test,y_pred))\n",
    "print(\"Precision is: \", precision_score(y_test,y_pred, average = 'micro'))\n",
    "print(\"Recall is: \", recall_score(y_test,y_pred,  average = 'micro'))\n",
    "print(\"F1 score is: \", f1_score(y_test,y_pred,  average = 'micro'))"
   ]
  },
  {
   "cell_type": "markdown",
   "id": "6ab95f3f",
   "metadata": {},
   "source": [
    "# Building the Model---KNN Algorithm"
   ]
  },
  {
   "cell_type": "code",
   "execution_count": 38,
   "id": "533e9af8",
   "metadata": {},
   "outputs": [],
   "source": [
    "from sklearn.neighbors import KNeighborsClassifier\n",
    "acc_values = []\n",
    "neighbors = np.arange(3,15)\n",
    "for k in neighbors:\n",
    "    classifier = KNeighborsClassifier(n_neighbors = k, metric='minkowski')\n",
    "    classifier.fit(x_train, y_train)\n",
    "    y_pred =  classifier.predict(x_test)\n",
    "    acc = accuracy_score(y_test, y_pred)\n",
    "    acc_values.append(acc)\n"
   ]
  },
  {
   "cell_type": "code",
   "execution_count": 39,
   "id": "d9a3412b",
   "metadata": {},
   "outputs": [
    {
     "data": {
      "text/plain": [
       "[0.9988810335181323,\n",
       " 0.9988301714053202,\n",
       " 0.9991353440821932,\n",
       " 0.9988301714053202,\n",
       " 0.9988301714053202,\n",
       " 0.998779309292508,\n",
       " 0.9986267229540715,\n",
       " 0.998474136615635,\n",
       " 0.9984232745028229,\n",
       " 0.9982198260515742,\n",
       " 0.9982706881643864,\n",
       " 0.9981181018259498]"
      ]
     },
     "execution_count": 39,
     "metadata": {},
     "output_type": "execute_result"
    }
   ],
   "source": [
    "acc_values"
   ]
  },
  {
   "cell_type": "code",
   "execution_count": 40,
   "id": "97e38b42",
   "metadata": {},
   "outputs": [
    {
     "data": {
      "text/plain": [
       "Text(0, 0.5, 'Accuracy')"
      ]
     },
     "execution_count": 40,
     "metadata": {},
     "output_type": "execute_result"
    },
    {
     "data": {
      "image/png": "[encoded data removed]",
      "text/plain": [
       "<Figure size 432x288 with 1 Axes>"
      ]
     },
     "metadata": {},
     "output_type": "display_data"
    }
   ],
   "source": [
    "plt.plot(neighbors, acc_values, 'o-')\n",
    "plt.xlabel('K values')\n",
    "plt.ylabel('Accuracy')"
   ]
  },
  {
   "cell_type": "code",
   "execution_count": 41,
   "id": "163851b7",
   "metadata": {},
   "outputs": [],
   "source": [
    "classifier = KNeighborsClassifier(n_neighbors = 5, metric='minkowski')\n",
    "classifier.fit(x_train, y_train)\n",
    "y_pred =  classifier.predict(x_test)"
   ]
  },
  {
   "cell_type": "code",
   "execution_count": 42,
   "id": "2103510c",
   "metadata": {},
   "outputs": [
    {
     "name": "stdout",
     "output_type": "stream",
     "text": [
      "Accuracy is:  0.9991353440821932\n",
      "Precision is:  0.9991353440821932\n",
      "Recall is:  0.9991353440821932\n",
      "F1 score is:  0.9991353440821932\n"
     ]
    }
   ],
   "source": [
    "print(\"Accuracy is: \", accuracy_score(y_test,y_pred))\n",
    "print(\"Precision is: \", precision_score(y_test,y_pred, average = 'micro'))\n",
    "print(\"Recall is: \", recall_score(y_test,y_pred,  average = 'micro'))\n",
    "print(\"F1 score is: \", f1_score(y_test,y_pred,  average = 'micro'))"
   ]
  },
  {
   "cell_type": "code",
   "execution_count": 43,
   "id": "1c693c7c",
   "metadata": {},
   "outputs": [
    {
     "data": {
      "text/plain": [
       "array([[3924,    0,    0,    0,    0],\n",
       "       [   0, 3881,    5,    0,    0],\n",
       "       [   0,    2, 3950,    1,    0],\n",
       "       [   0,    5,    0, 3920,    0],\n",
       "       [   0,    0,    2,    2, 3969]], dtype=int64)"
      ]
     },
     "execution_count": 43,
     "metadata": {},
     "output_type": "execute_result"
    }
   ],
   "source": [
    "confusion_matrix(y_test,y_pred)"
   ]
  },
  {
   "cell_type": "markdown",
   "id": "c66118c6",
   "metadata": {},
   "source": [
    "# building the Model-Decision Tree Algorithm"
   ]
  },
  {
   "cell_type": "code",
   "execution_count": 44,
   "id": "25f2714a",
   "metadata": {},
   "outputs": [],
   "source": [
    "from sklearn.tree import DecisionTreeClassifier\n",
    "dt_model =DecisionTreeClassifier()\n",
    "dt_model.fit(x_train,y_train)\n",
    "y_pred=dt_model.predict(x_test)"
   ]
  },
  {
   "cell_type": "code",
   "execution_count": 45,
   "id": "3a2b5cb1",
   "metadata": {},
   "outputs": [
    {
     "name": "stdout",
     "output_type": "stream",
     "text": [
      "Accuracy is:  1.0\n",
      "Precision is:  1.0\n",
      "Recall is:  1.0\n",
      "F1 score is:  1.0\n"
     ]
    }
   ],
   "source": [
    "print(\"Accuracy is: \", accuracy_score(y_test,y_pred))\n",
    "print(\"Precision is: \", precision_score(y_test,y_pred, average = 'micro'))\n",
    "print(\"Recall is: \", recall_score(y_test,y_pred,  average = 'micro'))\n",
    "print(\"F1 score is: \", f1_score(y_test,y_pred,  average = 'micro'))"
   ]
  },
  {
   "cell_type": "code",
   "execution_count": 46,
   "id": "16be65aa",
   "metadata": {},
   "outputs": [
    {
     "data": {
      "text/plain": [
       "array([[3924,    0,    0,    0,    0],\n",
       "       [   0, 3886,    0,    0,    0],\n",
       "       [   0,    0, 3953,    0,    0],\n",
       "       [   0,    0,    0, 3925,    0],\n",
       "       [   0,    0,    0,    0, 3973]], dtype=int64)"
      ]
     },
     "execution_count": 46,
     "metadata": {},
     "output_type": "execute_result"
    }
   ],
   "source": [
    "confusion_matrix(y_test,y_pred)"
   ]
  },
  {
   "cell_type": "markdown",
   "id": "892b2ba2",
   "metadata": {},
   "source": [
    "# Building the Model---Rain Forest Classifier Algorithm"
   ]
  },
  {
   "cell_type": "code",
   "execution_count": 47,
   "id": "5f4c588c",
   "metadata": {},
   "outputs": [
    {
     "name": "stdout",
     "output_type": "stream",
     "text": [
      "Accuracy is:  1.0\n",
      "Precision is:  1.0\n",
      "Recall is:  1.0\n",
      "F1 score is:  1.0\n"
     ]
    }
   ],
   "source": [
    "from sklearn.ensemble import RandomForestClassifier\n",
    "rf = RandomForestClassifier()\n",
    "rf.fit(x_train,y_train)\n",
    "y_pred = rf.predict(x_test)\n",
    "print(\"Accuracy is: \", accuracy_score(y_test,y_pred))\n",
    "print(\"Precision is: \", precision_score(y_test,y_pred,  average = 'micro'))\n",
    "print(\"Recall is: \", recall_score(y_test,y_pred,  average = 'micro'))\n",
    "print(\"F1 score is: \", f1_score(y_test,y_pred, average = 'micro'))"
   ]
  },
  {
   "cell_type": "code",
   "execution_count": 48,
   "id": "34e9ae0e",
   "metadata": {},
   "outputs": [
    {
     "data": {
      "text/plain": [
       "array([[3924,    0,    0,    0,    0],\n",
       "       [   0, 3886,    0,    0,    0],\n",
       "       [   0,    0, 3953,    0,    0],\n",
       "       [   0,    0,    0, 3925,    0],\n",
       "       [   0,    0,    0,    0, 3973]], dtype=int64)"
      ]
     },
     "execution_count": 48,
     "metadata": {},
     "output_type": "execute_result"
    }
   ],
   "source": [
    "confusion_matrix (y_test, y_pred)"
   ]
  },
  {
   "cell_type": "markdown",
   "id": "3ee615d6",
   "metadata": {},
   "source": [
    "# 3.Exploratory Data Analysis"
   ]
  },
  {
   "cell_type": "code",
   "execution_count": 49,
   "id": "cdfb48b5",
   "metadata": {},
   "outputs": [
    {
     "data": {
      "text/plain": [
       "Index(['Domain', 'Indicator', 'Item', 'Element', 'CountryCode', 'CountryName',\n",
       "       'Region', 'Scenario', 'Units', 'Year', 'Value'],\n",
       "      dtype='object')"
      ]
     },
     "execution_count": 49,
     "metadata": {},
     "output_type": "execute_result"
    }
   ],
   "source": [
    "df.columns"
   ]
  },
  {
   "cell_type": "markdown",
   "id": "db2b8909",
   "metadata": {},
   "source": [
    "# 2.Bivariate Analysis"
   ]
  },
  {
   "cell_type": "code",
   "execution_count": 50,
   "id": "8bcfdb25",
   "metadata": {},
   "outputs": [
    {
     "data": {
      "image/png": "[encoded data removed]",
      "text/plain": [
       "<Figure size 432x288 with 1 Axes>"
      ]
     },
     "metadata": {},
     "output_type": "display_data"
    }
   ],
   "source": [
    "s1 = sns.barplot(x ='Value', y ='Item', data = df, color = 'red')\n",
    "plt.rcParams['figure.figsize']=1000,800\n"
   ]
  },
  {
   "cell_type": "markdown",
   "id": "37464aaf",
   "metadata": {},
   "source": [
    "#\n",
    "Growing of oil palm fruit is the highest among all crop production."
   ]
  },
  {
   "cell_type": "code",
   "execution_count": 52,
   "id": "a27af7b7",
   "metadata": {},
   "outputs": [
    {
     "data": {
      "image/png": "[encoded data removed]",
      "text/plain": [
       "<Figure size 720x720 with 1 Axes>"
      ]
     },
     "metadata": {},
     "output_type": "display_data"
    }
   ],
   "source": [
    "s1 = sns.barplot(x ='Indicator', y ='Value', data = df, color = 'red')\n",
    "plt.rcParams['figure.figsize']=10,9"
   ]
  },
  {
   "cell_type": "code",
   "execution_count": 53,
   "id": "ed1abf9d",
   "metadata": {},
   "outputs": [
    {
     "data": {
      "image/png": "[encoded data removed]",
      "text/plain": [
       "<Figure size 720x648 with 1 Axes>"
      ]
     },
     "metadata": {},
     "output_type": "display_data"
    }
   ],
   "source": [
    "s1 = sns.barplot(x ='Region', y ='Value', data = df, color = 'red')\n",
    "plt.rcParams['figure.figsize']=10,10"
   ]
  },
  {
   "cell_type": "markdown",
   "id": "7d8ac873",
   "metadata": {},
   "source": [
    "# \n",
    "China is the largest crop producer."
   ]
  },
  {
   "cell_type": "code",
   "execution_count": 54,
   "id": "62888af2",
   "metadata": {},
   "outputs": [
    {
     "data": {
      "image/png": "[encoded data removed]",
      "text/plain": [
       "<Figure size 720x720 with 1 Axes>"
      ]
     },
     "metadata": {},
     "output_type": "display_data"
    }
   ],
   "source": [
    "s1 = sns.barplot(x ='Element', y ='Value', data = df, color = 'red')\n",
    "plt.rcParams['figure.figsize']=10,1"
   ]
  },
  {
   "cell_type": "markdown",
   "id": "fee4f5d1",
   "metadata": {},
   "source": [
    "#  \n",
    "Most of the crops are Rainfed rather than irrigating."
   ]
  },
  {
   "cell_type": "code",
   "execution_count": 56,
   "id": "52dbed87",
   "metadata": {},
   "outputs": [
    {
     "data": {
      "image/png": "[encoded data removed]",
      "text/plain": [
       "<Figure size 720x720 with 1 Axes>"
      ]
     },
     "metadata": {},
     "output_type": "display_data"
    }
   ],
   "source": [
    "s1 = sns.barplot(x ='Scenario', y ='Value', data = df, color = 'red')\n",
    "plt.rcParams['figure.figsize']=10,10\n"
   ]
  },
  {
   "cell_type": "markdown",
   "id": "3a9d7a18",
   "metadata": {},
   "source": [
    "# \n",
    "The scenario seems to be Stratified societies."
   ]
  },
  {
   "cell_type": "code",
   "execution_count": 57,
   "id": "17c60ae9",
   "metadata": {},
   "outputs": [
    {
     "data": {
      "text/html": [
       "<div>\n",
       "<style scoped>\n",
       "    .dataframe tbody tr th:only-of-type {\n",
       "        vertical-align: middle;\n",
       "    }\n",
       "\n",
       "    .dataframe tbody tr th {\n",
       "        vertical-align: top;\n",
       "    }\n",
       "\n",
       "    .dataframe thead th {\n",
       "        text-align: right;\n",
       "    }\n",
       "</style>\n",
       "<table border=\"1\" class=\"dataframe\">\n",
       "  <thead>\n",
       "    <tr style=\"text-align: right;\">\n",
       "      <th></th>\n",
       "      <th>Year</th>\n",
       "      <th>Value</th>\n",
       "    </tr>\n",
       "  </thead>\n",
       "  <tbody>\n",
       "    <tr>\n",
       "      <th>Year</th>\n",
       "      <td>1.000000</td>\n",
       "      <td>-0.000114</td>\n",
       "    </tr>\n",
       "    <tr>\n",
       "      <th>Value</th>\n",
       "      <td>-0.000114</td>\n",
       "      <td>1.000000</td>\n",
       "    </tr>\n",
       "  </tbody>\n",
       "</table>\n",
       "</div>"
      ],
      "text/plain": [
       "           Year     Value\n",
       "Year   1.000000 -0.000114\n",
       "Value -0.000114  1.000000"
      ]
     },
     "execution_count": 57,
     "metadata": {},
     "output_type": "execute_result"
    }
   ],
   "source": [
    "df.corr()"
   ]
  },
  {
   "cell_type": "markdown",
   "id": "eaffd4c9",
   "metadata": {},
   "source": [
    "#\n",
    "The correlation coefficient is-0.000114, so no Relationship between them."
   ]
  },
  {
   "cell_type": "markdown",
   "id": "6ace9c4e",
   "metadata": {},
   "source": [
    "# 1.Univariate Analysis"
   ]
  },
  {
   "cell_type": "code",
   "execution_count": 58,
   "id": "b7c9f8d6",
   "metadata": {},
   "outputs": [
    {
     "data": {
      "text/plain": [
       "Rainfed      35280\n",
       "Irrigated    30255\n",
       "Name: Element, dtype: int64"
      ]
     },
     "execution_count": 58,
     "metadata": {},
     "output_type": "execute_result"
    }
   ],
   "source": [
    "df['Element'].value_counts()"
   ]
  },
  {
   "cell_type": "code",
   "execution_count": 59,
   "id": "ed1a6e5b",
   "metadata": {},
   "outputs": [
    {
     "data": {
      "text/plain": [
       "China, mainland                          4950\n",
       "Myanmar                                  4140\n",
       "Thailand                                 4050\n",
       "Rest of EAP                              3780\n",
       "Viet Nam                                 3690\n",
       "Cambodia                                 3060\n",
       "Indonesia                                2790\n",
       "Lao People's Democratic Republic         2700\n",
       "Philippines                              2520\n",
       "Democratic People's Republic of Korea    2520\n",
       "Turkey                                   2355\n",
       "Malaysia                                 2070\n",
       "Kazakhstan                               1980\n",
       "Tajikistan                               1890\n",
       "Rest of ECA                              1800\n",
       "Azerbaijan                               1710\n",
       "Russian Federation                       1710\n",
       "Bulgaria                                 1620\n",
       "Uzbekistan                               1620\n",
       "Kyrgyzstan                               1530\n",
       "Romania                                  1530\n",
       "Republic of Moldova                      1440\n",
       "Ukraine                                  1440\n",
       "Serbia                                   1350\n",
       "Albania                                  1350\n",
       "Mongolia                                 1260\n",
       "Belarus                                  1170\n",
       "Georgia                                   990\n",
       "Armenia                                   900\n",
       "Bosnia and Herzegovina                    810\n",
       "Turkmenistan                              810\n",
       "Name: CountryName, dtype: int64"
      ]
     },
     "execution_count": 59,
     "metadata": {},
     "output_type": "execute_result"
    }
   ],
   "source": [
    "df['CountryName'].value_counts()"
   ]
  },
  {
   "cell_type": "code",
   "execution_count": 60,
   "id": "fffd6c95",
   "metadata": {},
   "outputs": [
    {
     "data": {
      "text/plain": [
       "Crop Production    65535\n",
       "Name: Domain, dtype: int64"
      ]
     },
     "execution_count": 60,
     "metadata": {},
     "output_type": "execute_result"
    }
   ],
   "source": [
    "df['Domain'].value_counts()"
   ]
  },
  {
   "cell_type": "code",
   "execution_count": 61,
   "id": "85af2e31",
   "metadata": {},
   "outputs": [
    {
     "data": {
      "text/plain": [
       "EAP excluding China    32580\n",
       "Europe/Central Asia    28005\n",
       "China                   4950\n",
       "Name: Region, dtype: int64"
      ]
     },
     "execution_count": 61,
     "metadata": {},
     "output_type": "execute_result"
    }
   ],
   "source": [
    "df['Region'].value_counts()"
   ]
  },
  {
   "cell_type": "code",
   "execution_count": 62,
   "id": "a98e756e",
   "metadata": {},
   "outputs": [
    {
     "data": {
      "text/plain": [
       "Growing of dried pulses              5130\n",
       "Growing of grain maize               4500\n",
       "Growing of potatoes                  4320\n",
       "Growing of barley                    3780\n",
       "Growing of citrus fruits             3150\n",
       "Growing of paddy rice                2880\n",
       "Growing of soybeans                  2700\n",
       "Growing of rape and mustardseed      2610\n",
       "Growing of sugar beet                2520\n",
       "Growing of groundnuts                2160\n",
       "Growing of other vegetables          2160\n",
       "Growing of raw cotton                2160\n",
       "Growing of sesame seed               1800\n",
       "Growing of sugar cane                1800\n",
       "Growing of other crops               1800\n",
       "Growing of other fruits              1800\n",
       "Growing of sorghum                   1620\n",
       "Growing of sunflower seed            1545\n",
       "Growing of millet                    1530\n",
       "Growing of other fibre crops         1530\n",
       "Growing of coconuts                  1350\n",
       "Growing of other oilseeds            1260\n",
       "Growing of sweet potato and yams     1260\n",
       "Growing of tobacco                   1260\n",
       "Growing of bananas                   1170\n",
       "Growing of cassava                    990\n",
       "Growing of coffee, green              990\n",
       "Growing of wheat                      900\n",
       "Growing of natural rubber             810\n",
       "Growing of tea                        720\n",
       "Growing of other roots and tubers     720\n",
       "Growing of oil palm fruit             630\n",
       "Growing of other cereals              630\n",
       "Growing of olives                     540\n",
       "Growing of cocoa beans                540\n",
       "Growing of plantains                  270\n",
       "Name: Item, dtype: int64"
      ]
     },
     "execution_count": 62,
     "metadata": {},
     "output_type": "execute_result"
    }
   ],
   "source": [
    "df['Item'].value_counts()"
   ]
  },
  {
   "cell_type": "code",
   "execution_count": 63,
   "id": "312ad99f",
   "metadata": {},
   "outputs": [
    {
     "data": {
      "text/plain": [
       "<AxesSubplot:xlabel='Value', ylabel='Density'>"
      ]
     },
     "execution_count": 63,
     "metadata": {},
     "output_type": "execute_result"
    },
    {
     "data": {
      "image/png": "[encoded data removed]",
      "text/plain": [
       "<Figure size 720x720 with 1 Axes>"
      ]
     },
     "metadata": {},
     "output_type": "display_data"
    }
   ],
   "source": [
    "sns.distplot(df.Value) # numeric"
   ]
  },
  {
   "cell_type": "code",
   "execution_count": 64,
   "id": "0d76543e",
   "metadata": {},
   "outputs": [
    {
     "data": {
      "text/plain": [
       "<AxesSubplot:xlabel='Year', ylabel='Density'>"
      ]
     },
     "execution_count": 64,
     "metadata": {},
     "output_type": "execute_result"
    },
    {
     "data": {
      "image/png": "[encoded data removed]",
      "text/plain": [
       "<Figure size 720x720 with 1 Axes>"
      ]
     },
     "metadata": {},
     "output_type": "display_data"
    }
   ],
   "source": [
    "sns.distplot(df.Year) # numeric"
   ]
  },
  {
   "cell_type": "code",
   "execution_count": null,
   "id": "fcbba465",
   "metadata": {},
   "outputs": [],
   "source": []
  }
 ],
 "metadata": {
  "kernelspec": {
   "display_name": "Python 3",
   "language": "python",
   "name": "python3"
  },
  "language_info": {
   "codemirror_mode": {
    "name": "ipython",
    "version": 3
   },
   "file_extension": ".py",
   "mimetype": "text/x-python",
   "name": "python",
   "nbconvert_exporter": "python",
   "pygments_lexer": "ipython3",
   "version": "3.8.8"
  }
 },
 "nbformat": 4,
 "nbformat_minor": 5
}
